{
 "cells": [
  {
   "cell_type": "markdown",
   "metadata": {
    "id": "H-z4L8J371GO"
   },
   "source": [
    "## 作業:\n",
    "今天學到不同統計量之間特性，  \n",
    "試著分析男生女生身高資料，  \n",
    "試著回答下面的問題:  \n",
    "Q1:試著用今天所教的內容，如何描述這兩組資料的樣態?    \n",
    "Q2: 請問男生和女生在平均身高上誰比較高?   \n",
    "Q3:請問第二題的答案和日常生活中觀察的一致嗎? 如果不一致，你覺得原因可能為何?    \n",
    "上述問題透過  python 語法進行運算，\n",
    "並將上述答案填寫在 (google 表單)[https://docs.google.com/forms/d/e/1FAIpQLSdDzwpeJl8YLPwZaW8pBZvtuXY9kIbbZLqxcXyzFaoraV5JEA/viewform ]\n",
    "![](作業資料圖檔.PNG)"
   ]
  },
  {
   "cell_type": "code",
   "execution_count": 1,
   "metadata": {
    "id": "yz28_IgkYdBW"
   },
   "outputs": [],
   "source": [
    "# library\n",
    "import matplotlib.pyplot as plt\n",
    "import numpy as np\n",
    "import pandas as pd\n",
    "from scipy import stats\n",
    "import math\n",
    "import statistics\n",
    "import seaborn as sns"
   ]
  },
  {
   "cell_type": "code",
   "execution_count": 4,
   "metadata": {
    "id": "3NtzuWtt71GU",
    "outputId": "be21c4eb-a6c2-4674-aadd-d378bafc0428"
   },
   "outputs": [],
   "source": [
    "## 輸入資料\n",
    "boys=[164, 176, 169, 169, 165, 175, 159, 151, 144, 160, 183, 165, 156, 170,\n",
    " 164, 173, 165, 163, 177, 171]\n",
    "girls = [169,183,170,168,182,170,173,185,151,156,162,169,162,181,159,154,167,175,170,160]"
   ]
  },
  {
   "cell_type": "code",
   "execution_count": 5,
   "metadata": {
    "id": "uDM9AzrY71GW",
    "outputId": "f4e7ede3-fda9-4858-f122-af7c3b3f3ad4"
   },
   "outputs": [
    {
     "name": "stdout",
     "output_type": "stream",
     "text": [
      "男孩身高平均 165.95\n",
      "女孩身高平均 168.3\n",
      "np_median_boy 165.0\n",
      "np_median_girl 169.0\n",
      "mode_boy= ModeResult(mode=array([165]), count=array([3]))\n",
      "mode_girl= ModeResult(mode=array([170]), count=array([3]))\n",
      "39\n",
      "34\n",
      "男孩身高變異數= 84.89210526315789\n",
      "女孩身高變異數= 95.37894736842105\n",
      "男孩身高標準差= 9.213691185575838\n",
      "男孩身高標準差= 9.766214587465353\n",
      "男孩90百分位數= 176.1\n",
      "男孩50百分位數= 165.0\n",
      "男孩20百分位數= 159.8\n",
      "女孩90百分位數= 182.1\n",
      "女孩50百分位數= 169.0\n",
      "女孩20百分位數= 159.8\n",
      "男孩峰度 -0.47132127317376954\n",
      "男孩偏度 0.19395882957876331\n",
      "女孩峰度 0.05985321129365068\n",
      "女孩偏度 -0.8203607083948947\n"
     ]
    }
   ],
   "source": [
    "#Q1:試著用今天所教的內容，如何描述這兩組資料的樣態?\n",
    "#暗示:  分別計算男生和女生的統計量\n",
    "\n",
    "print(\"男孩身高平均\",np.mean(boys))\n",
    "print(\"女孩身高平均\",np.mean(girls))\n",
    "print(\"np_median_boy\",np.median(boys,axis=None))\n",
    "print(\"np_median_girl\",np.median(girls,axis=None))\n",
    "print(\"mode_boy=\",stats.mode(boys,axis=None))\n",
    "print(\"mode_girl=\",stats.mode(girls,axis=None))\n",
    "def rangeV(x): \n",
    "    return(max(x)-min(x))\n",
    "print(rangeV(boys))\n",
    "print(rangeV(girls))\n",
    "print(\"男孩身高變異數=\",statistics.variance(boys))\n",
    "print(\"女孩身高變異數=\",statistics.variance(girls))\n",
    "std_boy=np.std(boys,ddof=1)\n",
    "print(\"男孩身高標準差=\",std_boy)\n",
    "std_girls=np.std(girls,ddof=1)\n",
    "print(\"男孩身高標準差=\",std_girls)\n",
    "print(\"男孩90百分位數=\",np.percentile(boys, 90))\n",
    "print(\"男孩50百分位數=\",np.percentile(boys, 50))\n",
    "print(\"男孩20百分位數=\",np.percentile(boys, 20))\n",
    "print(\"女孩90百分位數=\",np.percentile(girls, 90))\n",
    "print(\"女孩50百分位數=\",np.percentile(girls, 50))\n",
    "print(\"女孩20百分位數=\",np.percentile(girls, 20))\n",
    "print(\"男孩峰度\",stats.skew(boys))\n",
    "print(\"男孩偏度\",stats.kurtosis(boys))\n",
    "print(\"女孩峰度\",stats.skew(girls))\n",
    "print(\"女孩偏度\",stats.kurtosis(girls))"
   ]
  },
  {
   "cell_type": "code",
   "execution_count": 6,
   "metadata": {
    "id": "xH_GNsC271GW",
    "outputId": "f4b4c46a-0d8b-421c-9c70-0ebf2aab0e31"
   },
   "outputs": [
    {
     "name": "stdout",
     "output_type": "stream",
     "text": [
      "男孩身高平均 165.95\n",
      "女孩身高平均 168.3\n"
     ]
    }
   ],
   "source": [
    "#Q2: 請問男生和女生在平均身高上誰比較高? \n",
    "print(\"男孩身高平均 165.95\")\n",
    "print(\"女孩身高平均 168.3\")"
   ]
  },
  {
   "cell_type": "code",
   "execution_count": 7,
   "metadata": {
    "id": "xAzZU0Dv71GX",
    "outputId": "e2017c09-70fc-41ab-99c0-9d41fe21629d"
   },
   "outputs": [
    {
     "name": "stdout",
     "output_type": "stream",
     "text": [
      "不一致,可能樣本數不夠\n"
     ]
    }
   ],
   "source": [
    "#Q3:請問第二題的答案和日常生活中觀察的一致嗎? 如果不一致，你覺得原因可能為何? \n",
    "print(\"不一致,可能樣本數不夠\")"
   ]
  },
  {
   "cell_type": "code",
   "execution_count": null,
   "metadata": {},
   "outputs": [],
   "source": []
  }
 ],
 "metadata": {
  "colab": {
   "collapsed_sections": [],
   "name": "作業.ipynb",
   "provenance": []
  },
  "kernelspec": {
   "display_name": "Python 3",
   "language": "python",
   "name": "python3"
  },
  "language_info": {
   "codemirror_mode": {
    "name": "ipython",
    "version": 3
   },
   "file_extension": ".py",
   "mimetype": "text/x-python",
   "name": "python",
   "nbconvert_exporter": "python",
   "pygments_lexer": "ipython3",
   "version": "3.8.5"
  }
 },
 "nbformat": 4,
 "nbformat_minor": 1
}
